{
 "cells": [
  {
   "cell_type": "markdown",
   "metadata": {},
   "source": [
    "<center><h1> Multilayer Perceptron </h1></center>\n",
    "<center>An implementation in Tensorflow</center>"
   ]
  },
  {
   "cell_type": "code",
   "execution_count": 1,
   "metadata": {
    "ExecuteTime": {
     "end_time": "2019-03-07T09:05:51.140962Z",
     "start_time": "2019-03-07T09:05:48.546596Z"
    }
   },
   "outputs": [
    {
     "name": "stderr",
     "output_type": "stream",
     "text": [
      "/anaconda3/lib/python3.6/site-packages/h5py/__init__.py:36: FutureWarning: Conversion of the second argument of issubdtype from `float` to `np.floating` is deprecated. In future, it will be treated as `np.float64 == np.dtype(float).type`.\n",
      "  from ._conv import register_converters as _register_converters\n",
      "/anaconda3/lib/python3.6/site-packages/requests/__init__.py:80: RequestsDependencyWarning: urllib3 (1.21.1) or chardet (2.3.0) doesn't match a supported version!\n",
      "  RequestsDependencyWarning)\n"
     ]
    }
   ],
   "source": [
    "import tensorflow as tf"
   ]
  },
  {
   "cell_type": "code",
   "execution_count": 2,
   "metadata": {
    "ExecuteTime": {
     "end_time": "2019-03-07T09:05:51.200576Z",
     "start_time": "2019-03-07T09:05:51.160565Z"
    }
   },
   "outputs": [],
   "source": [
    "def init_weights_and_biases(shape, stddev=0.1, seed_in=None):\n",
    "\n",
    "    w1 = tf.Variable(tf.random_normal([shape[0], shape[1]], stddev=stddev), name='w1')\n",
    "    b1 = tf.Variable(tf.random_normal([shape[1]]), name='b1')\n",
    "\n",
    "    w2 = tf.Variable(tf.random_normal([shape[1], shape[2]], stddev=stddev), name='w2')\n",
    "    b2 = tf.Variable(tf.random_normal([shape[2]]), name='b2')\n",
    "\n",
    "    w3 = tf.Variable(tf.random_normal([shape[2], shape[3]], stddev=stddev), name='w3')\n",
    "    b3 = tf.Variable(tf.random_normal([shape[3]]), name='b3')\n",
    "\n",
    "    return w1, b1, w2, b2, w3, b3\n",
    "\n",
    "def forward_prop_multi_layer(X, w1, b1, w2, b2, w3, b3):\n",
    "\n",
    "    hidden_1 = tf.nn.sigmoid(tf.add(tf.matmul(X,w1), b1))\n",
    "    hidden_2 = tf.nn.sigmoid(tf.add(tf.matmul(hidden_1,w2), b2))\n",
    "    Y_pred = tf.nn.softmax(tf.add(tf.matmul(hidden_2,w3), b3))\n",
    "\n",
    "    return Y_pred"
   ]
  },
  {
   "cell_type": "code",
   "execution_count": null,
   "metadata": {},
   "outputs": [],
   "source": []
  }
 ],
 "metadata": {
  "kernelspec": {
   "display_name": "Python 3",
   "language": "python",
   "name": "python3"
  },
  "language_info": {
   "codemirror_mode": {
    "name": "ipython",
    "version": 3
   },
   "file_extension": ".py",
   "mimetype": "text/x-python",
   "name": "python",
   "nbconvert_exporter": "python",
   "pygments_lexer": "ipython3",
   "version": "3.6.5"
  },
  "latex_envs": {
   "LaTeX_envs_menu_present": true,
   "autoclose": false,
   "autocomplete": true,
   "bibliofile": "biblio.bib",
   "cite_by": "apalike",
   "current_citInitial": 1,
   "eqLabelWithNumbers": true,
   "eqNumInitial": 1,
   "hotkeys": {
    "equation": "Ctrl-E",
    "itemize": "Ctrl-I"
   },
   "labels_anchors": false,
   "latex_user_defs": false,
   "report_style_numbering": false,
   "user_envs_cfg": false
  }
 },
 "nbformat": 4,
 "nbformat_minor": 2
}
