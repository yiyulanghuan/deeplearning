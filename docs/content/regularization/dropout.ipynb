{
 "cells": [
  {
   "cell_type": "code",
   "execution_count": 1,
   "metadata": {},
   "outputs": [
    {
     "name": "stdout",
     "output_type": "stream",
     "text": [
      "tensor([[2., 2., 2., 0., 2., 0., 2., 0., 0., 2.]])\n",
      "tensor([[1., 1., 1., 1., 1., 1., 1., 1., 1., 1.]])\n"
     ]
    }
   ],
   "source": [
    "# During eval Dropout is deactivated and just passes its input.\n",
    "# During the training the probability p is used to drop activations. Also, the activations are scaled with 1./p as otherwise the expected values would differ between training and eval.\n",
    "\n",
    "# https://discuss.pytorch.org/t/model-eval-vs-with-torch-no-grad/19615\n",
    "\n",
    "import torch\n",
    "import torch.nn as nn\n",
    "\n",
    "drop = nn.Dropout()\n",
    "x = torch.ones(1, 10)\n",
    "\n",
    "# Train mode (default after construction)\n",
    "drop.train()\n",
    "print(drop(x))\n",
    "\n",
    "# Eval mode\n",
    "drop.eval()\n",
    "print(drop(x))"
   ]
  }
 ],
 "metadata": {
  "jupytext": {
   "cell_metadata_filter": "-all",
   "notebook_metadata_filter": "-all"
  },
  "kernelspec": {
   "display_name": "Python 3",
   "language": "python",
   "name": "python3"
  },
  "language_info": {
   "codemirror_mode": {
    "name": "ipython",
    "version": 3
   },
   "file_extension": ".py",
   "mimetype": "text/x-python",
   "name": "python",
   "nbconvert_exporter": "python",
   "pygments_lexer": "ipython3",
   "version": "3.7.3"
  },
  "widgets": {
   "application/vnd.jupyter.widget-state+json": {
    "state": {},
    "version_major": 2,
    "version_minor": 0
   }
  }
 },
 "nbformat": 4,
 "nbformat_minor": 4
}
