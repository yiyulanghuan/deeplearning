{
 "cells": [
  {
   "cell_type": "markdown",
   "metadata": {},
   "source": [
    "<center><h1> Neuron Package </h1></center>"
   ]
  },
  {
   "cell_type": "markdown",
   "metadata": {},
   "source": [
    "# Ball and stick Model"
   ]
  },
  {
   "cell_type": "code",
   "execution_count": 1,
   "metadata": {
    "ExecuteTime": {
     "end_time": "2019-08-12T21:21:54.966348Z",
     "start_time": "2019-08-12T21:21:54.688683Z"
    }
   },
   "outputs": [],
   "source": [
    "from neuron import h, gui"
   ]
  },
  {
   "cell_type": "code",
   "execution_count": 2,
   "metadata": {
    "ExecuteTime": {
     "end_time": "2019-08-12T21:23:06.318689Z",
     "start_time": "2019-08-12T21:23:06.314705Z"
    }
   },
   "outputs": [],
   "source": [
    "soma = h.Section(name='soma')\n",
    "dend = h.Section(name='dend')"
   ]
  },
  {
   "cell_type": "code",
   "execution_count": 3,
   "metadata": {
    "ExecuteTime": {
     "end_time": "2019-08-12T21:25:20.698020Z",
     "start_time": "2019-08-12T21:25:20.668514Z"
    }
   },
   "outputs": [
    {
     "name": "stdout",
     "output_type": "stream",
     "text": [
      "soma { nseg=1  L=100  Ra=35.4\n",
      "\t/*location 0 attached to cell 0*/\n",
      "\t/* First segment only */\n",
      "\tinsert morphology { diam=500}\n",
      "\tinsert capacitance { cm=1}\n",
      "}\n"
     ]
    },
    {
     "data": {
      "text/plain": [
       "1.0"
      ]
     },
     "execution_count": 3,
     "metadata": {},
     "output_type": "execute_result"
    }
   ],
   "source": [
    "h.psection(sec=soma)"
   ]
  },
  {
   "cell_type": "code",
   "execution_count": 4,
   "metadata": {
    "ExecuteTime": {
     "end_time": "2019-08-12T21:25:33.504406Z",
     "start_time": "2019-08-12T21:25:33.495036Z"
    }
   },
   "outputs": [
    {
     "data": {
      "text/plain": [
       "dend"
      ]
     },
     "execution_count": 4,
     "metadata": {},
     "output_type": "execute_result"
    }
   ],
   "source": [
    "dend.connect(soma(1))"
   ]
  },
  {
   "cell_type": "code",
   "execution_count": 5,
   "metadata": {
    "ExecuteTime": {
     "end_time": "2019-08-12T21:25:42.058029Z",
     "start_time": "2019-08-12T21:25:42.049859Z"
    }
   },
   "outputs": [
    {
     "name": "stdout",
     "output_type": "stream",
     "text": [
      "dend { nseg=1  L=100  Ra=35.4\n",
      "\tsoma connect dend (0), 1\n",
      "\t/* First segment only */\n",
      "\tinsert morphology { diam=500}\n",
      "\tinsert capacitance { cm=1}\n",
      "}\n"
     ]
    },
    {
     "data": {
      "text/plain": [
       "1.0"
      ]
     },
     "execution_count": 5,
     "metadata": {},
     "output_type": "execute_result"
    }
   ],
   "source": [
    "h.psection(sec=dend)"
   ]
  },
  {
   "cell_type": "code",
   "execution_count": 6,
   "metadata": {
    "ExecuteTime": {
     "end_time": "2019-08-12T21:25:47.789877Z",
     "start_time": "2019-08-12T21:25:47.780770Z"
    }
   },
   "outputs": [
    {
     "name": "stdout",
     "output_type": "stream",
     "text": [
      "\n",
      "|-|       soma(0-1)\n",
      "   `|       dend(0-1)\n",
      "\n"
     ]
    },
    {
     "data": {
      "text/plain": [
       "1.0"
      ]
     },
     "execution_count": 6,
     "metadata": {},
     "output_type": "execute_result"
    }
   ],
   "source": [
    "h.topology()"
   ]
  },
  {
   "cell_type": "code",
   "execution_count": 8,
   "metadata": {
    "ExecuteTime": {
     "end_time": "2019-08-12T21:26:37.149394Z",
     "start_time": "2019-08-12T21:26:37.143700Z"
    }
   },
   "outputs": [
    {
     "name": "stdout",
     "output_type": "stream",
     "text": [
      "Surface area of soma = 500.00296377255506\n"
     ]
    }
   ],
   "source": [
    "#urface area of cylinder is 2*pi*r*h (sealed ends are implicit).\n",
    "# Here we make a square cylinder in that the diameter\n",
    "# is equal to the height, so diam = h. ==> Area = 4*pi*r^2\n",
    "# We want a soma of 500 microns squared:\n",
    "# r^2 = 500/(4*pi) ==> r = 6.2078, diam = 12.6157\n",
    "soma.L = soma.diam = 12.6157 # Makes a soma of 500 microns squared.\n",
    "dend.L = 200 # microns\n",
    "dend.diam = 1 # microns\n",
    "print(\"Surface area of soma = {}\".format(soma(0.5).area()))"
   ]
  },
  {
   "cell_type": "code",
   "execution_count": 9,
   "metadata": {
    "ExecuteTime": {
     "end_time": "2019-08-12T21:26:49.799598Z",
     "start_time": "2019-08-12T21:26:49.792299Z"
    }
   },
   "outputs": [],
   "source": [
    "shape_window = h.PlotShape()"
   ]
  },
  {
   "cell_type": "code",
   "execution_count": 10,
   "metadata": {
    "ExecuteTime": {
     "end_time": "2019-08-12T21:27:26.537310Z",
     "start_time": "2019-08-12T21:27:26.531612Z"
    }
   },
   "outputs": [
    {
     "data": {
      "text/plain": [
       "0.0"
      ]
     },
     "execution_count": 10,
     "metadata": {},
     "output_type": "execute_result"
    }
   ],
   "source": [
    "shape_window.exec_menu('Show Diam')"
   ]
  },
  {
   "cell_type": "code",
   "execution_count": 12,
   "metadata": {
    "ExecuteTime": {
     "end_time": "2019-08-12T21:29:49.187091Z",
     "start_time": "2019-08-12T21:29:49.179315Z"
    }
   },
   "outputs": [],
   "source": [
    "for sec in h.allsec():\n",
    "    sec.Ra = 100    # Axial resistance in Ohm * cm\n",
    "    sec.cm = 1      # Membrane capacitance in micro Farads / cm^2\n",
    "\n",
    "# Insert active Hodgkin-Huxley current in the soma\n",
    "soma.insert('hh')\n",
    "for seg in soma:\n",
    "    seg.hh.gnabar = 0.12  # Sodium conductance in S/cm2\n",
    "    seg.hh.gkbar = 0.036  # Potassium conductance in S/cm2\n",
    "    seg.hh.gl = 0.0003    # Leak conductance in S/cm2\n",
    "    seg.hh.el = -54.3     # Reversal potential in mV\n",
    "\n",
    "# Insert passive current in the dendrite\n",
    "dend.insert('pas')\n",
    "for seg in dend:\n",
    "    seg.pas.g = 0.001  # Passive conductance in S/cm2\n",
    "    seg.pas.e = -65    # Leak reversal potential mV"
   ]
  },
  {
   "cell_type": "code",
   "execution_count": 13,
   "metadata": {
    "ExecuteTime": {
     "end_time": "2019-08-12T21:30:01.044140Z",
     "start_time": "2019-08-12T21:30:01.037398Z"
    }
   },
   "outputs": [
    {
     "name": "stdout",
     "output_type": "stream",
     "text": [
      "S/cm2\n"
     ]
    }
   ],
   "source": [
    "print(h.units('gnabar_hh'))"
   ]
  },
  {
   "cell_type": "code",
   "execution_count": 14,
   "metadata": {
    "ExecuteTime": {
     "end_time": "2019-08-12T21:30:09.757086Z",
     "start_time": "2019-08-12T21:30:09.750710Z"
    }
   },
   "outputs": [
    {
     "name": "stdout",
     "output_type": "stream",
     "text": [
      "soma { nseg=1  L=12.6157  Ra=100\n",
      "\t/*location 0 attached to cell 0*/\n",
      "\t/* First segment only */\n",
      "\tinsert morphology { diam=12.6157}\n",
      "\tinsert capacitance { cm=1}\n",
      "\tinsert hh { gnabar_hh=0.12 gkbar_hh=0.036 gl_hh=0.0003 el_hh=-54.3}\n",
      "\tinsert na_ion { ena=50}\n",
      "\tinsert k_ion { ek=-77}\n",
      "}\n",
      "dend { nseg=1  L=200  Ra=100\n",
      "\tsoma connect dend (0), 1\n",
      "\t/* First segment only */\n",
      "\tinsert morphology { diam=1}\n",
      "\tinsert capacitance { cm=1}\n",
      "\tinsert pas { g_pas=0.001 e_pas=-65}\n",
      "}\n"
     ]
    }
   ],
   "source": [
    "for sec in h.allsec():\n",
    "    h.psection(sec=sec)"
   ]
  },
  {
   "cell_type": "code",
   "execution_count": 15,
   "metadata": {
    "ExecuteTime": {
     "end_time": "2019-08-12T21:30:27.105114Z",
     "start_time": "2019-08-12T21:30:27.101485Z"
    }
   },
   "outputs": [],
   "source": [
    "stim = h.IClamp(dend(1))"
   ]
  },
  {
   "cell_type": "code",
   "execution_count": 16,
   "metadata": {
    "ExecuteTime": {
     "end_time": "2019-08-12T21:30:35.213987Z",
     "start_time": "2019-08-12T21:30:35.208277Z"
    }
   },
   "outputs": [
    {
     "data": {
      "text/plain": [
       "['__abs__',\n",
       " '__add__',\n",
       " '__bool__',\n",
       " '__call__',\n",
       " '__class__',\n",
       " '__delattr__',\n",
       " '__delitem__',\n",
       " '__dir__',\n",
       " '__doc__',\n",
       " '__eq__',\n",
       " '__format__',\n",
       " '__ge__',\n",
       " '__getattribute__',\n",
       " '__getitem__',\n",
       " '__gt__',\n",
       " '__hash__',\n",
       " '__init__',\n",
       " '__init_subclass__',\n",
       " '__iter__',\n",
       " '__le__',\n",
       " '__len__',\n",
       " '__lt__',\n",
       " '__module__',\n",
       " '__mul__',\n",
       " '__ne__',\n",
       " '__neg__',\n",
       " '__new__',\n",
       " '__next__',\n",
       " '__pos__',\n",
       " '__radd__',\n",
       " '__reduce__',\n",
       " '__reduce_ex__',\n",
       " '__repr__',\n",
       " '__rmul__',\n",
       " '__rsub__',\n",
       " '__rtruediv__',\n",
       " '__setattr__',\n",
       " '__setitem__',\n",
       " '__setstate__',\n",
       " '__sizeof__',\n",
       " '__str__',\n",
       " '__sub__',\n",
       " '__subclasshook__',\n",
       " '__truediv__',\n",
       " 'amp',\n",
       " 'baseattr',\n",
       " 'delay',\n",
       " 'dur',\n",
       " 'get_loc',\n",
       " 'get_segment',\n",
       " 'has_loc',\n",
       " 'hname',\n",
       " 'hocobjptr',\n",
       " 'i',\n",
       " 'loc',\n",
       " 'same']"
      ]
     },
     "execution_count": 16,
     "metadata": {},
     "output_type": "execute_result"
    }
   ],
   "source": [
    "dir(stim)"
   ]
  },
  {
   "cell_type": "code",
   "execution_count": 17,
   "metadata": {
    "ExecuteTime": {
     "end_time": "2019-08-12T21:30:44.838277Z",
     "start_time": "2019-08-12T21:30:44.831856Z"
    }
   },
   "outputs": [
    {
     "name": "stdout",
     "output_type": "stream",
     "text": [
      "segment = dend(1)\n"
     ]
    }
   ],
   "source": [
    "print(\"segment = {}\".format(stim.get_segment()))"
   ]
  },
  {
   "cell_type": "code",
   "execution_count": 18,
   "metadata": {
    "ExecuteTime": {
     "end_time": "2019-08-12T21:30:53.849493Z",
     "start_time": "2019-08-12T21:30:53.845288Z"
    }
   },
   "outputs": [],
   "source": [
    "stim.delay = 5\n",
    "stim.dur = 1\n",
    "stim.amp = 0.1"
   ]
  },
  {
   "cell_type": "code",
   "execution_count": 20,
   "metadata": {
    "ExecuteTime": {
     "end_time": "2019-08-12T21:57:17.588317Z",
     "start_time": "2019-08-12T21:57:17.340652Z"
    }
   },
   "outputs": [
    {
     "data": {
      "image/png": "[encoded data removed]",
      "text/plain": [
       "<Figure size 576x288 with 1 Axes>"
      ]
     },
     "metadata": {},
     "output_type": "display_data"
    }
   ],
   "source": [
    "v_vec = h.Vector()        # Membrane potential vector\n",
    "t_vec = h.Vector()        # Time stamp vector\n",
    "v_vec.record(soma(0.5)._ref_v)\n",
    "t_vec.record(h._ref_t)\n",
    "simdur = 25.0\n",
    "\n",
    "h.tstop = simdur\n",
    "h.run()\n",
    "\n",
    "from matplotlib import pyplot\n",
    "pyplot.figure(figsize=(8,4)) # Default figsize is (8,6)\n",
    "pyplot.plot(t_vec, v_vec)\n",
    "pyplot.xlabel('time (ms)')\n",
    "pyplot.ylabel('mV')\n",
    "pyplot.show()"
   ]
  },
  {
   "cell_type": "code",
   "execution_count": 35,
   "metadata": {
    "ExecuteTime": {
     "end_time": "2019-08-12T22:08:16.956446Z",
     "start_time": "2019-08-12T22:08:16.656027Z"
    }
   },
   "outputs": [
    {
     "data": {
      "image/png": "[encoded data removed]",
      "text/plain": [
       "<Figure size 576x288 with 1 Axes>"
      ]
     },
     "metadata": {},
     "output_type": "display_data"
    }
   ],
   "source": [
    "import numpy\n",
    "pyplot.figure(figsize=(8,4))\n",
    "step = 0.075\n",
    "num_steps = 4\n",
    "for i in numpy.linspace(step, step*num_steps, num_steps):\n",
    "    stim.amp = i\n",
    "    h.tstop = simdur\n",
    "    h.run()\n",
    "    pyplot.plot(t_vec, v_vec, color='black')\n",
    "\n",
    "pyplot.xlabel('time (ms)')\n",
    "pyplot.ylabel('mV')\n",
    "pyplot.show()"
   ]
  },
  {
   "cell_type": "code",
   "execution_count": 36,
   "metadata": {
    "ExecuteTime": {
     "end_time": "2019-08-12T22:08:17.271824Z",
     "start_time": "2019-08-12T22:08:16.983499Z"
    }
   },
   "outputs": [
    {
     "data": {
      "image/png": "[encoded data removed]",
      "text/plain": [
       "<Figure size 576x288 with 1 Axes>"
      ]
     },
     "metadata": {},
     "output_type": "display_data"
    }
   ],
   "source": [
    "dend_v_vec = h.Vector()        # Membrane potential vector\n",
    "dend_v_vec.record(dend(0.5)._ref_v)\n",
    "\n",
    "pyplot.figure(figsize=(8,4))\n",
    "for i in numpy.linspace(step, step*num_steps, num_steps):\n",
    "    stim.amp = i\n",
    "    h.tstop = simdur\n",
    "    h.run()\n",
    "    soma_plot = pyplot.plot(t_vec, v_vec, color='black')\n",
    "    dend_plot = pyplot.plot(t_vec, dend_v_vec, color='red')\n",
    "\n",
    "# After looping, actually draw the image with show.\n",
    "# For legend labels, use the last instances we plotted\n",
    "pyplot.legend(soma_plot + dend_plot, ['soma', 'dend'])\n",
    "pyplot.xlabel('time (ms)')\n",
    "pyplot.ylabel('mV')\n",
    "pyplot.show()"
   ]
  },
  {
   "cell_type": "code",
   "execution_count": 37,
   "metadata": {
    "ExecuteTime": {
     "end_time": "2019-08-12T22:08:19.140449Z",
     "start_time": "2019-08-12T22:08:18.866750Z"
    }
   },
   "outputs": [
    {
     "data": {
      "image/png": "[encoded data removed]",
      "text/plain": [
       "<Figure size 432x288 with 1 Axes>"
      ]
     },
     "metadata": {},
     "output_type": "display_data"
    }
   ],
   "source": [
    "for i in numpy.linspace(step, step*num_steps, num_steps):\n",
    "    stim.amp = i\n",
    "    h.run()\n",
    "    soma_hires = pyplot.plot(t_vec, v_vec, color='blue')\n",
    "    dend_hires = pyplot.plot(t_vec, dend_v_vec, color='green')\n",
    "\n",
    "# After looping, actually draw the image with show.\n",
    "# For legend labels, use the last instances we plotted\n",
    "pyplot.legend(soma_plot + dend_plot + soma_hires + dend_hires, ['soma', 'dend', 'soma hi-res', 'dend hi-res'])\n",
    "pyplot.xlabel('time (ms)')\n",
    "pyplot.ylabel('mV')\n",
    "pyplot.show()\n"
   ]
  },
  {
   "cell_type": "code",
   "execution_count": 38,
   "metadata": {
    "ExecuteTime": {
     "end_time": "2019-08-12T22:08:19.270088Z",
     "start_time": "2019-08-12T22:08:19.265766Z"
    }
   },
   "outputs": [],
   "source": [
    "dend.nseg = 11"
   ]
  },
  {
   "cell_type": "code",
   "execution_count": 39,
   "metadata": {
    "ExecuteTime": {
     "end_time": "2019-08-12T22:08:20.908183Z",
     "start_time": "2019-08-12T22:08:20.452402Z"
    }
   },
   "outputs": [
    {
     "name": "stdout",
     "output_type": "stream",
     "text": [
      "Average error = 2.610166824513286\n"
     ]
    },
    {
     "data": {
      "image/png": "[encoded data removed]",
      "text/plain": [
       "<Figure size 576x288 with 1 Axes>"
      ]
     },
     "metadata": {},
     "output_type": "display_data"
    }
   ],
   "source": [
    "pyplot.figure(figsize=(8,4))\n",
    "ref_v = []\n",
    "ref_dend_v = []\n",
    "\n",
    "# Run through the cases of high resolution\n",
    "dend.nseg = 101\n",
    "for i in numpy.linspace(step, step*num_steps, num_steps):\n",
    "    stim.amp = i\n",
    "    h.run()\n",
    "    soma_hires = pyplot.plot(t_vec, v_vec, color='blue')\n",
    "    soma_hires = pyplot.plot(t_vec, dend_v_vec, color='green')\n",
    "    # Copy the values of these \"reference\" vectors for use below\n",
    "    ref_v_vec = numpy.zeros_like(v_vec)\n",
    "    v_vec.to_python(ref_v_vec)\n",
    "    ref_v.append(ref_v_vec)\n",
    "    ref_dend_v_vec = numpy.zeros_like(dend_v_vec)\n",
    "    dend_v_vec.to_python(ref_dend_v_vec)\n",
    "    ref_dend_v.append(ref_dend_v_vec)\n",
    "\n",
    "# Run through the cases of lower resolution\n",
    "dend.nseg = 1 #### Play with this value. Use odd values. ####\n",
    "\n",
    "err = 0\n",
    "idx = 0\n",
    "for i in numpy.arange(step, step*(num_steps+.9), step):\n",
    "    stim.amp = i\n",
    "    h.run()\n",
    "    soma_lowres = pyplot.plot(t_vec, v_vec, color='black')\n",
    "    dend_lowres = pyplot.plot(t_vec, dend_v_vec, color='red')\n",
    "    err += numpy.mean(numpy.abs(numpy.subtract(ref_v[idx], v_vec)))\n",
    "    err += numpy.mean(numpy.abs(numpy.subtract(ref_dend_v[idx], dend_v_vec)))\n",
    "    idx += 1\n",
    "\n",
    "err /= idx\n",
    "err /= 2 # Since we have a soma and dend vec\n",
    "\n",
    "print(\"Average error = {}\".format(err))\n",
    "\n",
    "pyplot.legend(soma_lowres + dend_lowres + soma_hires + dend_hires,\n",
    "        ['soma low-res', 'dend low-res', 'soma hi-res', 'dend hi-res'])\n",
    "pyplot.xlabel('time (ms)')\n",
    "pyplot.ylabel('mV')\n",
    "pyplot.show()"
   ]
  },
  {
   "cell_type": "code",
   "execution_count": null,
   "metadata": {},
   "outputs": [],
   "source": []
  }
 ],
 "metadata": {
  "kernelspec": {
   "display_name": "Python 3",
   "language": "python",
   "name": "python3"
  },
  "language_info": {
   "codemirror_mode": {
    "name": "ipython",
    "version": 3
   },
   "file_extension": ".py",
   "mimetype": "text/x-python",
   "name": "python",
   "nbconvert_exporter": "python",
   "pygments_lexer": "ipython3",
   "version": "3.6.5"
  },
  "latex_envs": {
   "LaTeX_envs_menu_present": true,
   "autoclose": false,
   "autocomplete": true,
   "bibliofile": "biblio.bib",
   "cite_by": "apalike",
   "current_citInitial": 1,
   "eqLabelWithNumbers": true,
   "eqNumInitial": 1,
   "hotkeys": {
    "equation": "Ctrl-E",
    "itemize": "Ctrl-I"
   },
   "labels_anchors": false,
   "latex_user_defs": false,
   "report_style_numbering": false,
   "user_envs_cfg": false
  }
 },
 "nbformat": 4,
 "nbformat_minor": 2
}
